{
 "cells": [
  {
   "cell_type": "markdown",
   "metadata": {},
   "source": [
    "# A Look into the Formats and GPS Locations of Files"
   ]
  },
  {
   "cell_type": "code",
   "execution_count": 18,
   "metadata": {},
   "outputs": [],
   "source": [
    "import numpy as np\n",
    "import pandas as pd\n",
    "\n",
    "import pymongo\n",
    "from pymongo import MongoClient"
   ]
  },
  {
   "cell_type": "code",
   "execution_count": 19,
   "metadata": {},
   "outputs": [],
   "source": [
    "# Connect to database\n",
    "client = MongoClient()\n",
    "db = client.parler_db\n",
    "collection = db.metadata"
   ]
  },
  {
   "cell_type": "code",
   "execution_count": 37,
   "metadata": {},
   "outputs": [],
   "source": [
    "# Fields used for columns\n",
    "column_dict = {\n",
    "    'CreateDate': 1,\n",
    "    'FileType': 1,\n",
    "    'geolocation': 1,\n",
    "    'Duration': 1,\n",
    "    'ImageWidth': 1,\n",
    "    'ImageHeight': 1,\n",
    "    '_id': 0, # Remove identifying information\n",
    "}\n",
    "\n",
    "# Exists dictionary\n",
    "exists_dict = {\n",
    "    k: {'$exists': True}\n",
    "    for k, _ in column_dict.items()\n",
    "    if k != '_id'\n",
    "}"
   ]
  },
  {
   "cell_type": "code",
   "execution_count": 38,
   "metadata": {},
   "outputs": [
    {
     "data": {
      "text/plain": [
       "68454"
      ]
     },
     "execution_count": 38,
     "metadata": {},
     "output_type": "execute_result"
    }
   ],
   "source": [
    "# Count docs 'geolocation' (GPS in decimal form)\n",
    "collection.count_documents(exists_dict)"
   ]
  },
  {
   "cell_type": "code",
   "execution_count": 46,
   "metadata": {
    "scrolled": true
   },
   "outputs": [
    {
     "name": "stderr",
     "output_type": "stream",
     "text": [
      "<ipython-input-46-1c8996883973>:6: DeprecationWarning: count is deprecated. Use Collection.count_documents instead.\n",
      "  result.count()\n"
     ]
    },
    {
     "data": {
      "text/plain": [
       "68463"
      ]
     },
     "execution_count": 46,
     "metadata": {},
     "output_type": "execute_result"
    }
   ],
   "source": [
    "# Run query\n",
    "result = collection.find(\n",
    "    {'geolocation': {'$exists': True}},\n",
    "    column_dict\n",
    ")\n",
    "result.count()"
   ]
  },
  {
   "cell_type": "markdown",
   "metadata": {},
   "source": [
    "## EDA"
   ]
  },
  {
   "cell_type": "code",
   "execution_count": 47,
   "metadata": {},
   "outputs": [],
   "source": [
    "# Create DataFrame from cursor results\n",
    "df = pd.DataFrame(result)"
   ]
  },
  {
   "cell_type": "code",
   "execution_count": 50,
   "metadata": {},
   "outputs": [
    {
     "data": {
      "text/html": [
       "<div>\n",
       "<style scoped>\n",
       "    .dataframe tbody tr th:only-of-type {\n",
       "        vertical-align: middle;\n",
       "    }\n",
       "\n",
       "    .dataframe tbody tr th {\n",
       "        vertical-align: top;\n",
       "    }\n",
       "\n",
       "    .dataframe thead th {\n",
       "        text-align: right;\n",
       "    }\n",
       "</style>\n",
       "<table border=\"1\" class=\"dataframe\">\n",
       "  <thead>\n",
       "    <tr style=\"text-align: right;\">\n",
       "      <th></th>\n",
       "      <th>FileType</th>\n",
       "      <th>CreateDate</th>\n",
       "      <th>Duration</th>\n",
       "      <th>ImageWidth</th>\n",
       "      <th>ImageHeight</th>\n",
       "      <th>geolocation</th>\n",
       "    </tr>\n",
       "  </thead>\n",
       "  <tbody>\n",
       "    <tr>\n",
       "      <th>0</th>\n",
       "      <td>MOV</td>\n",
       "      <td>2020:07:25 17:00:40</td>\n",
       "      <td>0:03:55</td>\n",
       "      <td>1920</td>\n",
       "      <td>1080</td>\n",
       "      <td>[-117.6683, 33.4905]</td>\n",
       "    </tr>\n",
       "    <tr>\n",
       "      <th>1</th>\n",
       "      <td>MP4</td>\n",
       "      <td>2020:06:10 09:30:48</td>\n",
       "      <td>0:05:20</td>\n",
       "      <td>1280</td>\n",
       "      <td>660</td>\n",
       "      <td>[-1.3391, 52.0465]</td>\n",
       "    </tr>\n",
       "    <tr>\n",
       "      <th>2</th>\n",
       "      <td>MOV</td>\n",
       "      <td>2021:01:01 06:04:07</td>\n",
       "      <td>12.00 s</td>\n",
       "      <td>1920</td>\n",
       "      <td>1080</td>\n",
       "      <td>[-97.3518, 27.6804]</td>\n",
       "    </tr>\n",
       "  </tbody>\n",
       "</table>\n",
       "</div>"
      ],
      "text/plain": [
       "  FileType           CreateDate Duration  ImageWidth  ImageHeight  \\\n",
       "0      MOV  2020:07:25 17:00:40  0:03:55        1920         1080   \n",
       "1      MP4  2020:06:10 09:30:48  0:05:20        1280          660   \n",
       "2      MOV  2021:01:01 06:04:07  12.00 s        1920         1080   \n",
       "\n",
       "            geolocation  \n",
       "0  [-117.6683, 33.4905]  \n",
       "1    [-1.3391, 52.0465]  \n",
       "2   [-97.3518, 27.6804]  "
      ]
     },
     "execution_count": 50,
     "metadata": {},
     "output_type": "execute_result"
    }
   ],
   "source": [
    "df.head(3)"
   ]
  },
  {
   "cell_type": "code",
   "execution_count": 48,
   "metadata": {
    "scrolled": true
   },
   "outputs": [
    {
     "data": {
      "text/plain": [
       "MOV     50509\n",
       "MP4     16865\n",
       "3GP      1080\n",
       "JPEG        8\n",
       "AVI         1\n",
       "Name: FileType, dtype: int64"
      ]
     },
     "execution_count": 48,
     "metadata": {},
     "output_type": "execute_result"
    }
   ],
   "source": [
    "df['FileType'].value_counts()"
   ]
  },
  {
   "cell_type": "code",
   "execution_count": 52,
   "metadata": {},
   "outputs": [
    {
     "name": "stdout",
     "output_type": "stream",
     "text": [
      "<class 'pandas.core.frame.DataFrame'>\n",
      "RangeIndex: 68463 entries, 0 to 68462\n",
      "Data columns (total 6 columns):\n",
      " #   Column       Non-Null Count  Dtype \n",
      "---  ------       --------------  ----- \n",
      " 0   FileType     68463 non-null  object\n",
      " 1   CreateDate   68460 non-null  object\n",
      " 2   Duration     68455 non-null  object\n",
      " 3   ImageWidth   68463 non-null  int64 \n",
      " 4   ImageHeight  68463 non-null  int64 \n",
      " 5   geolocation  68463 non-null  object\n",
      "dtypes: int64(2), object(4)\n",
      "memory usage: 3.1+ MB\n"
     ]
    }
   ],
   "source": [
    "df.info()"
   ]
  },
  {
   "cell_type": "markdown",
   "metadata": {},
   "source": [
    "### Notes:\n",
    "- MOV: QuickTime format, Apple iOS\n",
    "- 3GP: Non-Apple 3G phones\n",
    "- MP4: Non-Apple, likely Android\n",
    "- JPEG: Still image\n",
    "- AVI: Microsoft format"
   ]
  },
  {
   "cell_type": "code",
   "execution_count": 53,
   "metadata": {},
   "outputs": [],
   "source": [
    "# Dropna, minimal data loss\n",
    "df.dropna(inplace=True)"
   ]
  },
  {
   "cell_type": "code",
   "execution_count": 54,
   "metadata": {},
   "outputs": [
    {
     "name": "stdout",
     "output_type": "stream",
     "text": [
      "<class 'pandas.core.frame.DataFrame'>\n",
      "Int64Index: 68454 entries, 0 to 68462\n",
      "Data columns (total 6 columns):\n",
      " #   Column       Non-Null Count  Dtype \n",
      "---  ------       --------------  ----- \n",
      " 0   FileType     68454 non-null  object\n",
      " 1   CreateDate   68454 non-null  object\n",
      " 2   Duration     68454 non-null  object\n",
      " 3   ImageWidth   68454 non-null  int64 \n",
      " 4   ImageHeight  68454 non-null  int64 \n",
      " 5   geolocation  68454 non-null  object\n",
      "dtypes: int64(2), object(4)\n",
      "memory usage: 3.7+ MB\n"
     ]
    }
   ],
   "source": []
  },
  {
   "cell_type": "code",
   "execution_count": null,
   "metadata": {},
   "outputs": [],
   "source": []
  }
 ],
 "metadata": {
  "kernelspec": {
   "display_name": "test",
   "language": "python",
   "name": "test"
  },
  "language_info": {
   "codemirror_mode": {
    "name": "ipython",
    "version": 3
   },
   "file_extension": ".py",
   "mimetype": "text/x-python",
   "name": "python",
   "nbconvert_exporter": "python",
   "pygments_lexer": "ipython3",
   "version": "3.8.5"
  }
 },
 "nbformat": 4,
 "nbformat_minor": 4
}
