{
 "cells": [
  {
   "cell_type": "markdown",
   "metadata": {},
   "source": [
    "# Data Acquisition"
   ]
  },
  {
   "cell_type": "markdown",
   "metadata": {},
   "source": [
    "## Loading Data\n",
    "- Data was acquired and released by Twitter user @donk_enby"
   ]
  },
  {
   "cell_type": "code",
   "execution_count": 1,
   "metadata": {},
   "outputs": [],
   "source": [
    "# File read libraries\n",
    "import glob\n",
    "import json"
   ]
  },
  {
   "cell_type": "code",
   "execution_count": 1,
   "metadata": {},
   "outputs": [],
   "source": [
    "# Note: output cleared to remove identifying information\n",
    "\n",
    "# Create list of filenames in metadata directory\n",
    "filenames = glob.glob('metadata/*.json')\n",
    "print('Number of json files:', len(filenames))\n",
    "print('Sample filename:', filenames[0])"
   ]
  },
  {
   "cell_type": "code",
   "execution_count": 3,
   "metadata": {},
   "outputs": [],
   "source": [
    "# Function to load file and read json as Python dictionary\n",
    "def get_json(filename):\n",
    "    path = filename\n",
    "    with open(path, 'r') as f:\n",
    "        j = json.load(f)[0]\n",
    "    return j\n",
    "\n",
    "# Function to get number of keys in document\n",
    "def get_key_len(filename):\n",
    "    l = len(get_json(filename).keys())\n",
    "    return l"
   ]
  },
  {
   "cell_type": "code",
   "execution_count": 4,
   "metadata": {},
   "outputs": [
    {
     "ename": "AssertionError",
     "evalue": "61 is not equal to 85",
     "output_type": "error",
     "traceback": [
      "\u001b[0;31m---------------------------------------------------------------------------\u001b[0m",
      "\u001b[0;31mAssertionError\u001b[0m                            Traceback (most recent call last)",
      "\u001b[0;32m<ipython-input-4-83e9070b323c>\u001b[0m in \u001b[0;36m<module>\u001b[0;34m\u001b[0m\n\u001b[1;32m      4\u001b[0m \u001b[0;32mfor\u001b[0m \u001b[0mi\u001b[0m \u001b[0;32min\u001b[0m \u001b[0mrange\u001b[0m\u001b[0;34m(\u001b[0m\u001b[0;36m1\u001b[0m\u001b[0;34m,\u001b[0m \u001b[0ml\u001b[0m\u001b[0;34m)\u001b[0m\u001b[0;34m:\u001b[0m\u001b[0;34m\u001b[0m\u001b[0;34m\u001b[0m\u001b[0m\n\u001b[1;32m      5\u001b[0m     \u001b[0mcurrent\u001b[0m \u001b[0;34m=\u001b[0m \u001b[0mget_key_len\u001b[0m\u001b[0;34m(\u001b[0m\u001b[0mfilenames\u001b[0m\u001b[0;34m[\u001b[0m\u001b[0mi\u001b[0m\u001b[0;34m]\u001b[0m\u001b[0;34m)\u001b[0m\u001b[0;34m\u001b[0m\u001b[0;34m\u001b[0m\u001b[0m\n\u001b[0;32m----> 6\u001b[0;31m     \u001b[0;32massert\u001b[0m \u001b[0mcurrent\u001b[0m \u001b[0;34m==\u001b[0m \u001b[0mkeys\u001b[0m\u001b[0;34m,\u001b[0m \u001b[0;34mf'{current} is not equal to {keys}'\u001b[0m\u001b[0;34m\u001b[0m\u001b[0;34m\u001b[0m\u001b[0m\n\u001b[0m",
      "\u001b[0;31mAssertionError\u001b[0m: 61 is not equal to 85"
     ]
    }
   ],
   "source": [
    "# Check if metadata is mutable\n",
    "keys = get_key_len(filenames[0])\n",
    "l = len(filenames)\n",
    "for i in range(1, l):\n",
    "    current = get_key_len(filenames[i])\n",
    "    assert current == keys, f'{current} is not equal to {keys}'"
   ]
  },
  {
   "cell_type": "markdown",
   "metadata": {},
   "source": [
    "### Notes:\n",
    "- The metadata is not consistent (varying number of keys) it might be best to use a NoSQL DB\n",
    "- MongoDB is a document NoSQL DB that can store JSON-like data"
   ]
  },
  {
   "cell_type": "markdown",
   "metadata": {},
   "source": [
    "## Create MongoDB Database"
   ]
  },
  {
   "cell_type": "code",
   "execution_count": 10,
   "metadata": {},
   "outputs": [],
   "source": [
    "# Official MongoDB driver\n",
    "import pymongo\n",
    "from pymongo import MongoClient\n",
    "\n",
    "# Regex\n",
    "import re"
   ]
  },
  {
   "cell_type": "code",
   "execution_count": 7,
   "metadata": {},
   "outputs": [],
   "source": [
    "# Instantiate client connection\n",
    "client = MongoClient()\n",
    "\n",
    "# Set db\n",
    "db = client.parler_db\n",
    "\n",
    "# Set collection\n",
    "collection = db.metadata"
   ]
  },
  {
   "cell_type": "code",
   "execution_count": 19,
   "metadata": {},
   "outputs": [],
   "source": [
    "# Function to get unique metadata id\n",
    "def get_id(filename):\n",
    "    _id = re.search(r'(?<=-)(.*?)(?=.json)', filename)[0]\n",
    "    return _id"
   ]
  },
  {
   "cell_type": "code",
   "execution_count": 21,
   "metadata": {},
   "outputs": [],
   "source": [
    "# Read and insert metadata into database\n",
    "for filename in filenames:\n",
    "    j = get_json(filename)\n",
    "    j['_id'] = get_id(filename)\n",
    "    collection.insert_one(j)"
   ]
  },
  {
   "cell_type": "code",
   "execution_count": 29,
   "metadata": {},
   "outputs": [
    {
     "name": "stdout",
     "output_type": "stream",
     "text": [
      "JSON files to insert: 1032523\n",
      "Documents in MongoDB: 1032523\n"
     ]
    }
   ],
   "source": [
    "# Check number of filenames\n",
    "print('JSON files to insert:', len(filenames))\n",
    "\n",
    "# Check number of documents inserted\n",
    "print('Documents in MongoDB:', collection.count_documents({}))"
   ]
  },
  {
   "cell_type": "markdown",
   "metadata": {},
   "source": [
    "## GPS Data"
   ]
  },
  {
   "cell_type": "code",
   "execution_count": 174,
   "metadata": {},
   "outputs": [],
   "source": [
    "# For Bulk Write operations\n",
    "from pymongo import UpdateOne"
   ]
  },
  {
   "cell_type": "code",
   "execution_count": 50,
   "metadata": {
    "scrolled": true
   },
   "outputs": [
    {
     "name": "stdout",
     "output_type": "stream",
     "text": [
      "Lat: 33 deg 29' 25.80\" N\n",
      "Long: 117 deg 40' 5.88\" W\n"
     ]
    }
   ],
   "source": [
    "# Get a sample GPS coordinate\n",
    "sample = collection.find_one()\n",
    "print('Lat:', sample['GPSLatitude'])\n",
    "print('Long:', sample['GPSLongitude'])"
   ]
  },
  {
   "cell_type": "code",
   "execution_count": 167,
   "metadata": {},
   "outputs": [],
   "source": [
    "# Function to convert DMS to decimal\n",
    "def dms2dec(dms):\n",
    "    deg = float(re.search(r'(.*?)(?=deg)', dms)[0].strip())\n",
    "    minute = float(re.search(r'(?<=deg)(.*?)(?=\\')', dms)[0].strip()) / 60\n",
    "    second = float(re.search(r'(?<=\\')(.*?)(?=\")', dms)[0].strip()) / 3600\n",
    "    card = re.search(r'(?<=\")(.*)', dms)[0].strip()\n",
    "    dec = deg + minute + second\n",
    "    if card in ['S', 'W']:\n",
    "        dec = -dec\n",
    "    return dec\n",
    "\n",
    "# Function to convert lat, long to decimal\n",
    "def gps_dec(doc):\n",
    "    lat = doc['GPSLatitude']\n",
    "    long = doc['GPSLongitude']\n",
    "    try:\n",
    "        lat = round(dms2dec(lat), 4)\n",
    "    except:\n",
    "        lat = None\n",
    "        \n",
    "    try:\n",
    "        long = round(dms2dec(long), 4)\n",
    "    except:\n",
    "        long = None\n",
    "        \n",
    "    return [long, lat]"
   ]
  },
  {
   "cell_type": "code",
   "execution_count": 168,
   "metadata": {},
   "outputs": [
    {
     "data": {
      "text/plain": [
       "[-117.6683, 33.4905]"
      ]
     },
     "execution_count": 168,
     "metadata": {},
     "output_type": "execute_result"
    }
   ],
   "source": [
    "gps_dec(sample)"
   ]
  },
  {
   "cell_type": "code",
   "execution_count": 169,
   "metadata": {},
   "outputs": [
    {
     "name": "stdout",
     "output_type": "stream",
     "text": [
      "Docs with GPS Lat: 68463\n"
     ]
    }
   ],
   "source": [
    "gps_lat = collection.count_documents({'GPSLatitude': {'$exists': True}})\n",
    "print('Docs with GPS Lat:', gps_lat)"
   ]
  },
  {
   "cell_type": "code",
   "execution_count": 180,
   "metadata": {},
   "outputs": [],
   "source": [
    "# Get all docs with GPS data\n",
    "docs = collection.find({'GPSLatitude': {'$exists': True}})"
   ]
  },
  {
   "cell_type": "code",
   "execution_count": 171,
   "metadata": {
    "scrolled": true
   },
   "outputs": [],
   "source": [
    "# Test\n",
    "x = sample['_id']\n",
    "coord = gps_dec(sample)\n",
    "result = collection.update_one(\n",
    "    {'_id': x},\n",
    "    {'$set': {'geolocation': coord}}\n",
    ")"
   ]
  },
  {
   "cell_type": "code",
   "execution_count": 172,
   "metadata": {},
   "outputs": [
    {
     "data": {
      "text/plain": [
       "{'n': 1, 'nModified': 0, 'ok': 1.0, 'updatedExisting': True}"
      ]
     },
     "execution_count": 172,
     "metadata": {},
     "output_type": "execute_result"
    }
   ],
   "source": [
    "# Cursor result\n",
    "result.raw_result"
   ]
  },
  {
   "cell_type": "code",
   "execution_count": 3,
   "metadata": {},
   "outputs": [],
   "source": [
    "# Note: output cleared to remove identifying information\n",
    "\n",
    "# Field set in document\n",
    "collection.find_one({'_id': x}, {'geolocation': 1})"
   ]
  },
  {
   "cell_type": "code",
   "execution_count": 181,
   "metadata": {},
   "outputs": [],
   "source": [
    "# List of bulk write operations\n",
    "requests = [\n",
    "    UpdateOne({'_id': doc['_id']}, {'$set': {'geolocation': gps_dec(doc)}})\n",
    "    for doc in docs\n",
    "]"
   ]
  },
  {
   "cell_type": "code",
   "execution_count": 2,
   "metadata": {},
   "outputs": [],
   "source": [
    "# Note: output cleared to remove identifying information\n",
    "\n",
    "# Samples\n",
    "print(requests[0])\n",
    "print(requests[-1])"
   ]
  },
  {
   "cell_type": "code",
   "execution_count": 186,
   "metadata": {},
   "outputs": [],
   "source": [
    "# Bulk Write\n",
    "result = collection.bulk_write(requests, ordered=False)"
   ]
  },
  {
   "cell_type": "code",
   "execution_count": 189,
   "metadata": {},
   "outputs": [
    {
     "data": {
      "text/plain": [
       "{'writeErrors': [],\n",
       " 'writeConcernErrors': [],\n",
       " 'nInserted': 0,\n",
       " 'nUpserted': 0,\n",
       " 'nMatched': 68463,\n",
       " 'nModified': 68462,\n",
       " 'nRemoved': 0,\n",
       " 'upserted': []}"
      ]
     },
     "execution_count": 189,
     "metadata": {},
     "output_type": "execute_result"
    }
   ],
   "source": [
    "# Cursor result\n",
    "result.bulk_api_result"
   ]
  }
 ],
 "metadata": {
  "kernelspec": {
   "display_name": "test",
   "language": "python",
   "name": "test"
  },
  "language_info": {
   "codemirror_mode": {
    "name": "ipython",
    "version": 3
   },
   "file_extension": ".py",
   "mimetype": "text/x-python",
   "name": "python",
   "nbconvert_exporter": "python",
   "pygments_lexer": "ipython3",
   "version": "3.8.5"
  }
 },
 "nbformat": 4,
 "nbformat_minor": 4
}
